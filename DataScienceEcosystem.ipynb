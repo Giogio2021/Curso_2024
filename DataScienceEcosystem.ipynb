{
 "cells": [
  {
   "cell_type": "markdown",
   "id": "ce1a79ba-ee55-42dc-bd82-fa15f6fea943",
   "metadata": {},
   "source": [
    "# Data Science Tools and Ecosystem using "
   ]
  },
  {
   "cell_type": "markdown",
   "id": "db4e6bd0-98b0-4ab3-9c5d-4902c35e080a",
   "metadata": {},
   "source": [
    "In this notebook, Data Science Tools and Ecosystem are summarized."
   ]
  },
  {
   "cell_type": "markdown",
   "id": "1e2401c3-8568-41e6-be32-dc73fc107709",
   "metadata": {},
   "source": [
    "####  Objectives \n",
    "\n",
    "* List popular languages for Data Science.\n",
    "* Examples of evaluating arithmetic expressions in Python.\n",
    "* Convert minutes to hours."
   ]
  },
  {
   "cell_type": "markdown",
   "id": "2312a612-8c46-4b9f-83f4-725311108b6b",
   "metadata": {},
   "source": [
    "Some of the popular languages that Data Scientists use are:\n",
    "1. Python\n",
    "2. R\n",
    "3. SQL\n",
    "4. Java\n",
    "5. JavaScript\n",
    "6. C++"
   ]
  },
  {
   "cell_type": "markdown",
   "id": "08a232be-6d2f-412a-9840-610462d98afd",
   "metadata": {},
   "source": [
    "Some of the commonly used libraries used by Data Scientists include:\n",
    "1. NumPy\n",
    "2. Pandas\n",
    "3. Matplotlib\n"
   ]
  },
  {
   "cell_type": "markdown",
   "id": "cc3eee8e-cb30-4c5e-88e9-0bdf87722ea6",
   "metadata": {},
   "source": [
    "| Data Science Tools |\n",
    "|--------------------|\n",
    "| Jupyter Notebook   |\n",
    "| RStudio            |\n",
    "| Visual Studio Code |"
   ]
  },
  {
   "cell_type": "markdown",
   "id": "c9065a3e-1130-4fa3-b543-bb252d81b773",
   "metadata": {},
   "source": [
    "### Below are a few examples of evaluating arithmetic expressions in Python\n",
    "a = 3 + 4 * 2  \n",
    "b = 6-2  \n",
    "c = a + b  \n",
    "print(\"result: \", c) "
   ]
  },
  {
   "cell_type": "code",
   "execution_count": 1,
   "id": "2f0a1b7f-3b20-4516-b7e6-e59b65705b5c",
   "metadata": {},
   "outputs": [
    {
     "name": "stdout",
     "output_type": "stream",
     "text": [
      "result:  15\n"
     ]
    }
   ],
   "source": [
    "a = 3 + 4 * 2 \n",
    "b = 6-2 \n",
    "c = a + b \n",
    "print(\"result: \", c)"
   ]
  },
  {
   "cell_type": "code",
   "execution_count": 2,
   "id": "86e6991b-20e6-4921-a275-a5e8d6804120",
   "metadata": {},
   "outputs": [
    {
     "data": {
      "text/plain": [
       "17"
      ]
     },
     "execution_count": 2,
     "metadata": {},
     "output_type": "execute_result"
    }
   ],
   "source": [
    "# This a simple arithmetic expression to mutiply then add integers\n",
    "(3 * 4) + 5"
   ]
  },
  {
   "cell_type": "code",
   "execution_count": 4,
   "id": "2db4f141-a45f-48ac-9aee-b25b13c3382b",
   "metadata": {},
   "outputs": [
    {
     "name": "stdout",
     "output_type": "stream",
     "text": [
      "3.3333333333333335\n"
     ]
    }
   ],
   "source": [
    "#  This will convert 200 minutes to hours by diving by 60.\n",
    "minutes = 200\n",
    "hours = minutes / 60\n",
    "print(hours)"
   ]
  },
  {
   "cell_type": "markdown",
   "id": "de4d6412-41bf-42e9-9034-3f4a1b57a7b2",
   "metadata": {},
   "source": [
    "## Author: \n",
    "Jorge Mariotti"
   ]
  },
  {
   "cell_type": "code",
   "execution_count": null,
   "id": "e63486c1-9465-4cf2-922b-75412081f819",
   "metadata": {},
   "outputs": [],
   "source": []
  }
 ],
 "metadata": {
  "kernelspec": {
   "display_name": "Python 3 (ipykernel)",
   "language": "python",
   "name": "python3"
  },
  "language_info": {
   "codemirror_mode": {
    "name": "ipython",
    "version": 3
   },
   "file_extension": ".py",
   "mimetype": "text/x-python",
   "name": "python",
   "nbconvert_exporter": "python",
   "pygments_lexer": "ipython3",
   "version": "3.12.4"
  }
 },
 "nbformat": 4,
 "nbformat_minor": 5
}
